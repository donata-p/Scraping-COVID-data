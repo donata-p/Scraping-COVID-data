{
 "cells": [
  {
   "cell_type": "code",
   "execution_count": null,
   "id": "f6e3a957",
   "metadata": {},
   "outputs": [],
   "source": [
    "# Import packages.\n",
    "# Analyse the data.\n",
    "import pandas as pd\n",
    "\n",
    "# Get data from the internet.\n",
    "import requests\n",
    "\n",
    "# Parse data with BeautifulSoup.\n",
    "from bs4 import BeautifulSoup"
   ]
  },
  {
   "cell_type": "code",
   "execution_count": null,
   "id": "94b74b64",
   "metadata": {},
   "outputs": [],
   "source": [
    "# Create a url variable.\n",
    "url = 'https://www.worldometers.info/coronavirus/'\n",
    "\n",
    "# Create a requests variable.\n",
    "r = requests.get(url)\n",
    "\n",
    "# Make contact with the website.\n",
    "if r.status_code == 200:\n",
    "    html_doc = r.text\n",
    "    \n",
    "# Get a BeautifulSoup object.\n",
    "soup = BeautifulSoup(html_doc)\n",
    "\n",
    "# Print the output.\n",
    "print(soup.prettify())"
   ]
  },
  {
   "cell_type": "code",
   "execution_count": null,
   "id": "e882ad52",
   "metadata": {},
   "outputs": [],
   "source": [
    "# Extract the contents of the table with the table id. \n",
    "table = soup.find('table', attrs={'id': 'main_table_countries_today'})\n",
    "\n",
    "table"
   ]
  },
  {
   "cell_type": "code",
   "execution_count": null,
   "id": "906793df",
   "metadata": {},
   "outputs": [],
   "source": [
    "# Specify BeautifulSoup to go through the table and find everything \n",
    "# with a tr tag.\n",
    "# Note: th = (table header), tr = (table row), and td = table column\n",
    "# , attrs={'style': \"\"})\n",
    "rows = table.find_all('tr', attrs={'style': \"\"})\n",
    "rows"
   ]
  },
  {
   "cell_type": "code",
   "execution_count": null,
   "id": "4f664229",
   "metadata": {},
   "outputs": [],
   "source": [
    "# Store the extracted data.\n",
    "output = []\n",
    "\n",
    "column_names = ['Country,Other', 'Total Cases', 'New Cases', 'Total Deaths',\n",
    "               'New Deaths', 'Total Recovered', 'New Recovered',\n",
    "               'Active Cases', 'Serious, Critical', 'Tot Cases/ 1M pop',\n",
    "               'Deaths/ 1M pop', 'Total Tests', 'Tests/ 1M pop', 'Population']\n",
    "\n",
    "# Create a for loop statement.\n",
    "for cases in rows:\n",
    "    cases_data = cases.find_all(\"td\")\n",
    "    if cases_data:\n",
    "        # Extract the text within each element.\n",
    "        cases_text = [td.text for td in cases_data]\n",
    "        output.append(dict(zip(column_names, cases_text)))\n",
    "        \n",
    "# Create an output.\n",
    "output"
   ]
  },
  {
   "cell_type": "code",
   "execution_count": null,
   "id": "258dd31f",
   "metadata": {},
   "outputs": [],
   "source": [
    "# Create a DataFrame directly from the output.\n",
    "data = pd.DataFrame(output)\n",
    "\n",
    "# View the DataFrame.\n",
    "data.head()"
   ]
  },
  {
   "cell_type": "code",
   "execution_count": null,
   "id": "b0671490",
   "metadata": {},
   "outputs": [],
   "source": [
    "# Save the DataFrame as a CSV file without index.\n",
    "data.to_csv('main_table_countries_today.csv', index=False)"
   ]
  },
  {
   "cell_type": "code",
   "execution_count": null,
   "id": "a8b0898f",
   "metadata": {},
   "outputs": [],
   "source": [
    "# Create a JSON file.\n",
    "import json\n",
    "\n",
    "# Create a JSON file.\n",
    "output_json = json.dumps(output)\n",
    "\n",
    "# View the output.\n",
    "output_json"
   ]
  },
  {
   "cell_type": "code",
   "execution_count": null,
   "id": "a9863f42",
   "metadata": {
    "scrolled": true
   },
   "outputs": [],
   "source": [
    "# Save the JSON file to .json.\n",
    "with open('main_table_countries_today.json', 'w') as f:\n",
    "    json.dump(output, f)"
   ]
  },
  {
   "cell_type": "code",
   "execution_count": null,
   "id": "1932710f",
   "metadata": {},
   "outputs": [],
   "source": [
    "# Open the JSON file with Pandas.\n",
    "data = pd.read_json('main_table_countries_today.json')\n",
    "\n",
    "# View the DataFrame.\n",
    "data.head()"
   ]
  },
  {
   "cell_type": "code",
   "execution_count": null,
   "id": "0b38056d",
   "metadata": {},
   "outputs": [],
   "source": [
    "# Import the CSV file with Pandas.\n",
    "# Data = pd.read_json('countries.json').\n",
    "data = pd.read_csv('main_table_countries_today.csv')\n",
    "\n",
    "# View.\n",
    "data.head()"
   ]
  },
  {
   "cell_type": "code",
   "execution_count": null,
   "id": "ff597e08",
   "metadata": {},
   "outputs": [],
   "source": [
    "# Read JSON using Pandas, output to .csv.\n",
    "pd.read_json(output_json).to_csv('main_table_countries_today.csv', index=False)"
   ]
  },
  {
   "cell_type": "code",
   "execution_count": 2,
   "id": "6b3341f6",
   "metadata": {},
   "outputs": [],
   "source": [
    "import pandas as pd"
   ]
  },
  {
   "cell_type": "markdown",
   "id": "c30a73ae",
   "metadata": {},
   "source": [
    "Import the CSV and JSON files and view them with the head() method."
   ]
  },
  {
   "cell_type": "code",
   "execution_count": 3,
   "id": "15698894",
   "metadata": {
    "scrolled": true
   },
   "outputs": [
    {
     "name": "stdout",
     "output_type": "stream",
     "text": [
      "   Country,Other Total Cases    New Cases Total Deaths  New Deaths  \\\n",
      "0            NaN       World  551,959,804     +210,158   6,356,640   \n",
      "1            1.0         USA   89,236,449          NaN  1,042,291    \n",
      "2            2.0       India   43,452,164          NaN    525,116    \n",
      "3            3.0      Brazil   32,283,345          NaN    671,194    \n",
      "4            4.0      France   30,950,513          NaN    149,491    \n",
      "\n",
      "   Total Recovered New Recovered Active Cases Serious, Critical  \\\n",
      "0            433.0   527,429,333     +193,851        18,173,831   \n",
      "1              NaN    84,810,554          NaN         3,383,604   \n",
      "2              NaN    42,822,493          NaN           104,555   \n",
      "3              NaN    30,764,923          NaN           847,228   \n",
      "4              NaN    29,603,879          NaN         1,197,143   \n",
      "\n",
      "  Tot Cases/ 1M pop Deaths/ 1M pop Total Tests  Tests/ 1M pop Population  \n",
      "0            36,837         70,811       815.5            NaN        NaN  \n",
      "1             3,323        266,488       3,113  1,050,907,600  3,138,339  \n",
      "2               698         30,883         373    862,375,489    612,928  \n",
      "3             8,318        149,763       3,114     63,776,166    295,858  \n",
      "4               869        472,090       2,280    271,490,188  4,141,057  \n"
     ]
    },
    {
     "data": {
      "text/html": [
       "<div>\n",
       "<style scoped>\n",
       "    .dataframe tbody tr th:only-of-type {\n",
       "        vertical-align: middle;\n",
       "    }\n",
       "\n",
       "    .dataframe tbody tr th {\n",
       "        vertical-align: top;\n",
       "    }\n",
       "\n",
       "    .dataframe thead th {\n",
       "        text-align: right;\n",
       "    }\n",
       "</style>\n",
       "<table border=\"1\" class=\"dataframe\">\n",
       "  <thead>\n",
       "    <tr style=\"text-align: right;\">\n",
       "      <th></th>\n",
       "      <th>Country,Other</th>\n",
       "      <th>Total Cases</th>\n",
       "      <th>New Cases</th>\n",
       "      <th>Total Deaths</th>\n",
       "      <th>New Deaths</th>\n",
       "      <th>Total Recovered</th>\n",
       "      <th>New Recovered</th>\n",
       "      <th>Active Cases</th>\n",
       "      <th>Serious, Critical</th>\n",
       "      <th>Tot Cases/ 1M pop</th>\n",
       "      <th>Deaths/ 1M pop</th>\n",
       "      <th>Total Tests</th>\n",
       "      <th>Tests/ 1M pop</th>\n",
       "      <th>Population</th>\n",
       "    </tr>\n",
       "  </thead>\n",
       "  <tbody>\n",
       "    <tr>\n",
       "      <th>0</th>\n",
       "      <td></td>\n",
       "      <td>World</td>\n",
       "      <td>551,959,804</td>\n",
       "      <td>+210,158</td>\n",
       "      <td>6,356,640</td>\n",
       "      <td>+433</td>\n",
       "      <td>527,429,333</td>\n",
       "      <td>+193,851</td>\n",
       "      <td>18,173,831</td>\n",
       "      <td>36,837</td>\n",
       "      <td>70,811</td>\n",
       "      <td>815.5</td>\n",
       "      <td></td>\n",
       "      <td></td>\n",
       "    </tr>\n",
       "    <tr>\n",
       "      <th>1</th>\n",
       "      <td>1</td>\n",
       "      <td>USA</td>\n",
       "      <td>89,236,449</td>\n",
       "      <td></td>\n",
       "      <td>1,042,291</td>\n",
       "      <td></td>\n",
       "      <td>84,810,554</td>\n",
       "      <td></td>\n",
       "      <td>3,383,604</td>\n",
       "      <td>3,323</td>\n",
       "      <td>266,488</td>\n",
       "      <td>3,113</td>\n",
       "      <td>1,050,907,600</td>\n",
       "      <td>3,138,339</td>\n",
       "    </tr>\n",
       "    <tr>\n",
       "      <th>2</th>\n",
       "      <td>2</td>\n",
       "      <td>India</td>\n",
       "      <td>43,452,164</td>\n",
       "      <td></td>\n",
       "      <td>525,116</td>\n",
       "      <td></td>\n",
       "      <td>42,822,493</td>\n",
       "      <td></td>\n",
       "      <td>104,555</td>\n",
       "      <td>698</td>\n",
       "      <td>30,883</td>\n",
       "      <td>373</td>\n",
       "      <td>862,375,489</td>\n",
       "      <td>612,928</td>\n",
       "    </tr>\n",
       "    <tr>\n",
       "      <th>3</th>\n",
       "      <td>3</td>\n",
       "      <td>Brazil</td>\n",
       "      <td>32,283,345</td>\n",
       "      <td></td>\n",
       "      <td>671,194</td>\n",
       "      <td></td>\n",
       "      <td>30,764,923</td>\n",
       "      <td></td>\n",
       "      <td>847,228</td>\n",
       "      <td>8,318</td>\n",
       "      <td>149,763</td>\n",
       "      <td>3,114</td>\n",
       "      <td>63,776,166</td>\n",
       "      <td>295,858</td>\n",
       "    </tr>\n",
       "    <tr>\n",
       "      <th>4</th>\n",
       "      <td>4</td>\n",
       "      <td>France</td>\n",
       "      <td>30,950,513</td>\n",
       "      <td></td>\n",
       "      <td>149,491</td>\n",
       "      <td></td>\n",
       "      <td>29,603,879</td>\n",
       "      <td></td>\n",
       "      <td>1,197,143</td>\n",
       "      <td>869</td>\n",
       "      <td>472,090</td>\n",
       "      <td>2,280</td>\n",
       "      <td>271,490,188</td>\n",
       "      <td>4,141,057</td>\n",
       "    </tr>\n",
       "  </tbody>\n",
       "</table>\n",
       "</div>"
      ],
      "text/plain": [
       "  Country,Other Total Cases    New Cases Total Deaths  New Deaths  \\\n",
       "0                     World  551,959,804     +210,158   6,356,640   \n",
       "1             1         USA   89,236,449               1,042,291    \n",
       "2             2       India   43,452,164                 525,116    \n",
       "3             3      Brazil   32,283,345                 671,194    \n",
       "4             4      France   30,950,513                 149,491    \n",
       "\n",
       "  Total Recovered New Recovered Active Cases Serious, Critical  \\\n",
       "0            +433   527,429,333     +193,851        18,173,831   \n",
       "1                    84,810,554                      3,383,604   \n",
       "2                    42,822,493                        104,555   \n",
       "3                    30,764,923                        847,228   \n",
       "4                    29,603,879                      1,197,143   \n",
       "\n",
       "  Tot Cases/ 1M pop Deaths/ 1M pop Total Tests  Tests/ 1M pop Population  \n",
       "0            36,837         70,811       815.5                            \n",
       "1             3,323        266,488       3,113  1,050,907,600  3,138,339  \n",
       "2               698         30,883         373    862,375,489    612,928  \n",
       "3             8,318        149,763       3,114     63,776,166    295,858  \n",
       "4               869        472,090       2,280    271,490,188  4,141,057  "
      ]
     },
     "execution_count": 3,
     "metadata": {},
     "output_type": "execute_result"
    }
   ],
   "source": [
    "# Import and read the CSV file.\n",
    "data_csv = pd.read_csv('main_table_countries_today.csv')\n",
    "\n",
    "# View the data.\n",
    "print(data_csv.head())\n",
    "\n",
    "# Import and read the JSON file.\n",
    "data_json = pd.read_json('main_table_countries_today.json')\n",
    "\n",
    "# View the DataFrame. \n",
    "data_json.head()"
   ]
  },
  {
   "cell_type": "markdown",
   "id": "b30e803f",
   "metadata": {},
   "source": [
    "View the data types and column names of both DataFrames"
   ]
  },
  {
   "cell_type": "code",
   "execution_count": null,
   "id": "d6c8307f",
   "metadata": {},
   "outputs": [],
   "source": [
    "# View the CSV and JSON DataFrames.\n",
    "print(data_csv.dtypes)\n",
    "print(data_csv.columns)\n",
    "\n",
    "print(data_json.dtypes)\n",
    "print(data_json.columns)"
   ]
  },
  {
   "cell_type": "markdown",
   "id": "b030c4d9",
   "metadata": {},
   "source": [
    "Create a subset consisting of the columns Country,Other, Total Cases, Total Deaths, Total Recovered, Active Cases, Serious, and Critical."
   ]
  },
  {
   "cell_type": "code",
   "execution_count": 4,
   "id": "2c88ddec",
   "metadata": {},
   "outputs": [
    {
     "name": "stdout",
     "output_type": "stream",
     "text": [
      "Index(['Country,Other', 'Total Cases', 'Total Deaths', 'Total Recovered',\n",
      "       'Active Cases', 'Serious, Critical'],\n",
      "      dtype='object')\n"
     ]
    },
    {
     "data": {
      "text/html": [
       "<div>\n",
       "<style scoped>\n",
       "    .dataframe tbody tr th:only-of-type {\n",
       "        vertical-align: middle;\n",
       "    }\n",
       "\n",
       "    .dataframe tbody tr th {\n",
       "        vertical-align: top;\n",
       "    }\n",
       "\n",
       "    .dataframe thead th {\n",
       "        text-align: right;\n",
       "    }\n",
       "</style>\n",
       "<table border=\"1\" class=\"dataframe\">\n",
       "  <thead>\n",
       "    <tr style=\"text-align: right;\">\n",
       "      <th></th>\n",
       "      <th>Country,Other</th>\n",
       "      <th>Total Cases</th>\n",
       "      <th>Total Deaths</th>\n",
       "      <th>Total Recovered</th>\n",
       "      <th>Active Cases</th>\n",
       "      <th>Serious, Critical</th>\n",
       "    </tr>\n",
       "  </thead>\n",
       "  <tbody>\n",
       "    <tr>\n",
       "      <th>0</th>\n",
       "      <td>NaN</td>\n",
       "      <td>World</td>\n",
       "      <td>+210,158</td>\n",
       "      <td>433.0</td>\n",
       "      <td>+193,851</td>\n",
       "      <td>18,173,831</td>\n",
       "    </tr>\n",
       "    <tr>\n",
       "      <th>1</th>\n",
       "      <td>1.0</td>\n",
       "      <td>USA</td>\n",
       "      <td>NaN</td>\n",
       "      <td>NaN</td>\n",
       "      <td>NaN</td>\n",
       "      <td>3,383,604</td>\n",
       "    </tr>\n",
       "    <tr>\n",
       "      <th>2</th>\n",
       "      <td>2.0</td>\n",
       "      <td>India</td>\n",
       "      <td>NaN</td>\n",
       "      <td>NaN</td>\n",
       "      <td>NaN</td>\n",
       "      <td>104,555</td>\n",
       "    </tr>\n",
       "    <tr>\n",
       "      <th>3</th>\n",
       "      <td>3.0</td>\n",
       "      <td>Brazil</td>\n",
       "      <td>NaN</td>\n",
       "      <td>NaN</td>\n",
       "      <td>NaN</td>\n",
       "      <td>847,228</td>\n",
       "    </tr>\n",
       "    <tr>\n",
       "      <th>4</th>\n",
       "      <td>4.0</td>\n",
       "      <td>France</td>\n",
       "      <td>NaN</td>\n",
       "      <td>NaN</td>\n",
       "      <td>NaN</td>\n",
       "      <td>1,197,143</td>\n",
       "    </tr>\n",
       "    <tr>\n",
       "      <th>...</th>\n",
       "      <td>...</td>\n",
       "      <td>...</td>\n",
       "      <td>...</td>\n",
       "      <td>...</td>\n",
       "      <td>...</td>\n",
       "      <td>...</td>\n",
       "    </tr>\n",
       "    <tr>\n",
       "      <th>221</th>\n",
       "      <td>222.0</td>\n",
       "      <td>Micronesia</td>\n",
       "      <td>NaN</td>\n",
       "      <td>NaN</td>\n",
       "      <td>NaN</td>\n",
       "      <td>5</td>\n",
       "    </tr>\n",
       "    <tr>\n",
       "      <th>222</th>\n",
       "      <td>226.0</td>\n",
       "      <td>Niue</td>\n",
       "      <td>NaN</td>\n",
       "      <td>NaN</td>\n",
       "      <td>NaN</td>\n",
       "      <td>1</td>\n",
       "    </tr>\n",
       "    <tr>\n",
       "      <th>223</th>\n",
       "      <td>228.0</td>\n",
       "      <td>Tuvalu</td>\n",
       "      <td>NaN</td>\n",
       "      <td>NaN</td>\n",
       "      <td>NaN</td>\n",
       "      <td>3</td>\n",
       "    </tr>\n",
       "    <tr>\n",
       "      <th>224</th>\n",
       "      <td>230.0</td>\n",
       "      <td>China</td>\n",
       "      <td>+33</td>\n",
       "      <td>NaN</td>\n",
       "      <td>+65</td>\n",
       "      <td>432</td>\n",
       "    </tr>\n",
       "    <tr>\n",
       "      <th>225</th>\n",
       "      <td>NaN</td>\n",
       "      <td>Total:</td>\n",
       "      <td>+210,158</td>\n",
       "      <td>433.0</td>\n",
       "      <td>+193,851</td>\n",
       "      <td>18,173,831</td>\n",
       "    </tr>\n",
       "  </tbody>\n",
       "</table>\n",
       "<p>226 rows × 6 columns</p>\n",
       "</div>"
      ],
      "text/plain": [
       "     Country,Other Total Cases Total Deaths  Total Recovered Active Cases  \\\n",
       "0              NaN       World     +210,158            433.0     +193,851   \n",
       "1              1.0         USA          NaN              NaN          NaN   \n",
       "2              2.0       India          NaN              NaN          NaN   \n",
       "3              3.0      Brazil          NaN              NaN          NaN   \n",
       "4              4.0      France          NaN              NaN          NaN   \n",
       "..             ...         ...          ...              ...          ...   \n",
       "221          222.0  Micronesia          NaN              NaN          NaN   \n",
       "222          226.0        Niue          NaN              NaN          NaN   \n",
       "223          228.0      Tuvalu          NaN              NaN          NaN   \n",
       "224          230.0       China          +33              NaN          +65   \n",
       "225            NaN      Total:     +210,158            433.0     +193,851   \n",
       "\n",
       "    Serious, Critical  \n",
       "0          18,173,831  \n",
       "1           3,383,604  \n",
       "2             104,555  \n",
       "3             847,228  \n",
       "4           1,197,143  \n",
       "..                ...  \n",
       "221                 5  \n",
       "222                 1  \n",
       "223                 3  \n",
       "224               432  \n",
       "225        18,173,831  \n",
       "\n",
       "[226 rows x 6 columns]"
      ]
     },
     "execution_count": 4,
     "metadata": {},
     "output_type": "execute_result"
    }
   ],
   "source": [
    "# Create a subset.\n",
    "data_report = data_csv[['Country,Other', 'Total Cases', 'Total Deaths',\n",
    "                        'Total Recovered', 'Active Cases', 'Serious, Critical']]\n",
    "\n",
    "# View the column names.\n",
    "print(data_report.columns)\n",
    "data_report"
   ]
  },
  {
   "cell_type": "markdown",
   "id": "1d0f9e1d",
   "metadata": {},
   "source": [
    "Determine the number of missing values in the new DataFrame"
   ]
  },
  {
   "cell_type": "code",
   "execution_count": 5,
   "id": "44ec9e00",
   "metadata": {},
   "outputs": [
    {
     "data": {
      "text/plain": [
       "Country,Other          2\n",
       "Total Cases            0\n",
       "Total Deaths         173\n",
       "Total Recovered      197\n",
       "Active Cases         176\n",
       "Serious, Critical     15\n",
       "dtype: int64"
      ]
     },
     "execution_count": 5,
     "metadata": {},
     "output_type": "execute_result"
    }
   ],
   "source": [
    "# Determine missing values.\n",
    "data_report.isnull().sum()"
   ]
  },
  {
   "cell_type": "markdown",
   "id": "eb5cb261",
   "metadata": {},
   "source": [
    "Save the new DataFrame as a CSV file.\n",
    "Import and view the new DataFrame with the head() method."
   ]
  },
  {
   "cell_type": "code",
   "execution_count": 6,
   "id": "cd9912cd",
   "metadata": {},
   "outputs": [],
   "source": [
    "# Save the DataFrame as a CSV file without index.\n",
    "data_report.to_csv('cases_report.csv', index=False)"
   ]
  },
  {
   "cell_type": "code",
   "execution_count": null,
   "id": "dbb60ac0",
   "metadata": {},
   "outputs": [],
   "source": [
    "# View the saved CSV.\n",
    "cases_report = pd.read_csv('cases_report.csv')\n",
    "\n",
    "# View the DataFrame.\n",
    "cases_report.head()"
   ]
  }
 ],
 "metadata": {
  "kernelspec": {
   "display_name": "Python 3 (ipykernel)",
   "language": "python",
   "name": "python3"
  },
  "language_info": {
   "codemirror_mode": {
    "name": "ipython",
    "version": 3
   },
   "file_extension": ".py",
   "mimetype": "text/x-python",
   "name": "python",
   "nbconvert_exporter": "python",
   "pygments_lexer": "ipython3",
   "version": "3.9.7"
  }
 },
 "nbformat": 4,
 "nbformat_minor": 5
}
